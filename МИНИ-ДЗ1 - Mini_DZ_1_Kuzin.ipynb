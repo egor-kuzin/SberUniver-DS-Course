{
  "nbformat": 4,
  "nbformat_minor": 0,
  "metadata": {
    "colab": {
      "name": "Mini DZ 1_Kuzin.ipynb",
      "provenance": [],
      "collapsed_sections": []
    },
    "kernelspec": {
      "name": "python3",
      "display_name": "Python 3"
    },
    "language_info": {
      "name": "python"
    }
  },
  "cells": [
    {
      "cell_type": "markdown",
      "metadata": {
        "id": "ex42v9Htv1_O"
      },
      "source": [
        "# Мини ДЗ 1\n",
        "Выполните решение задач в соответствующих ячейках (помечены комментарием \"# Ваш код здесь\". Ваш ответ должен совпадать с тем, что указано в выходе ячейки.\n"
      ]
    },
    {
      "cell_type": "markdown",
      "metadata": {
        "id": "ZcHyICciQKqo"
      },
      "source": [
        "## Формат сдачи \n",
        "Формат сдачи - ссылка на гугл-колаб в google classroom. \n",
        "Видео с инструкцией по сдаче ДЗ (ДЗ которые в Jupyter Notebook / Colab): https://youtu.be/qnmQMrFOywU\n",
        "\n",
        "УБЕДИТЕЛЬНАЯ ПРОСЬБА - убедитесь что открыт доступ к **просмотру и комментированию** вашего ноутбука (сверху справа страницы в colab есть раздел \"Поделиться\"->нажать на кнопку \"Поделиться\" справа вверху, затем на кнопку кнопка \"Изменить\" и дать права \"Комментатор\" для всех, у кого есть ссылка). После этого нужно нажать на кнопку \"Готово\"."
      ]
    },
    {
      "cell_type": "markdown",
      "metadata": {
        "id": "JM1vrqOOXhvJ"
      },
      "source": [
        "# Часть 1\n",
        "**В этой части можно использовать только NUMPY библиотеку, все математические операции также вызываем из Numpy (исключение - операции @ и *)** \n",
        "\n",
        "Инициализация массивов только через numpy array: Например, a = np.array([1,2,3,4])"
      ]
    },
    {
      "cell_type": "code",
      "metadata": {
        "id": "gzzUqZIKvdFG"
      },
      "source": [
        "import numpy as np"
      ],
      "execution_count": null,
      "outputs": []
    },
    {
      "cell_type": "markdown",
      "metadata": {
        "id": "Nw-wdVUovuZ5"
      },
      "source": [
        "## Задача 1.1\n",
        "**Стоимость - 1 балл**\n",
        "\n",
        "**Задание:** создайте и выведите последовательность чисел от 10 до 20 с постоянным шагом, длина последовательности - 21.\n",
        "\n",
        "**Решение:**"
      ]
    },
    {
      "cell_type": "code",
      "metadata": {
        "colab": {
          "base_uri": "https://localhost:8080/"
        },
        "id": "BrdsHSdBvwNz",
        "outputId": "54275e87-b41c-4925-a1f4-5c0c774f9a48"
      },
      "source": [
        "np.linspace(10, 20, 21)"
      ],
      "execution_count": null,
      "outputs": [
        {
          "output_type": "execute_result",
          "data": {
            "text/plain": [
              "array([10. , 10.5, 11. , 11.5, 12. , 12.5, 13. , 13.5, 14. , 14.5, 15. ,\n",
              "       15.5, 16. , 16.5, 17. , 17.5, 18. , 18.5, 19. , 19.5, 20. ])"
            ]
          },
          "metadata": {},
          "execution_count": 2
        }
      ]
    },
    {
      "cell_type": "markdown",
      "metadata": {
        "id": "lF8OZC2Nvg4C"
      },
      "source": [
        "## Задача 1.2.\n",
        "\n",
        "**Стоимость - 1 балл**\n",
        "\n",
        "**Задание:** создайте матрицы $\\begin{pmatrix} -3 & 4 \\\\ 4 & 3 \\end{pmatrix}$ и $\\begin{pmatrix} 2 & 1 \\\\ 1 & 2 \\end{pmatrix}$. Посчитайте их поэлементное и матричное произведения.\n",
        "\n",
        "**Решение:**"
      ]
    },
    {
      "cell_type": "code",
      "metadata": {
        "colab": {
          "base_uri": "https://localhost:8080/"
        },
        "id": "v9WvB-d6vhKn",
        "outputId": "7ed1a74b-6624-401f-b462-98054bb83e52"
      },
      "source": [
        "m1 = np.array([[-3, 4], [4, 3]])\n",
        "m2 = np.array([[2, 1], [1, 2]])\n",
        "print(m1,'\\n\\n', m2)"
      ],
      "execution_count": null,
      "outputs": [
        {
          "output_type": "stream",
          "name": "stdout",
          "text": [
            "[[-3  4]\n",
            " [ 4  3]] \n",
            "\n",
            " [[2 1]\n",
            " [1 2]]\n"
          ]
        }
      ]
    },
    {
      "cell_type": "code",
      "metadata": {
        "colab": {
          "base_uri": "https://localhost:8080/"
        },
        "id": "a2lmOyw0HOIi",
        "outputId": "720fea2b-8a55-4d2d-8d65-5e40b98ddd06"
      },
      "source": [
        "print(f'Поэлементное произведение первой на вторую:\\n {m1 * m2} \\n')\n",
        "print(f'Поэлементное произведение второй на первую:\\n {m2 * m1} \\n')\n",
        "print((m1 * m2) == (m2 * m1), '\\n')\n",
        "print(f'Матричное произведение первой на вторую:\\n {m1 @ m2} \\n')\n",
        "print(f'Матричное произведение второй на первую:\\n {m2 @ m1}')"
      ],
      "execution_count": null,
      "outputs": [
        {
          "output_type": "stream",
          "name": "stdout",
          "text": [
            "Поэлементное произведение первой на вторую:\n",
            " [[-6  4]\n",
            " [ 4  6]] \n",
            "\n",
            "Поэлементное произведение второй на первую:\n",
            " [[-6  4]\n",
            " [ 4  6]] \n",
            "\n",
            "[[ True  True]\n",
            " [ True  True]] \n",
            "\n",
            "Матричное произведение первой на вторую:\n",
            " [[-2  5]\n",
            " [11 10]] \n",
            "\n",
            "Матричное произведение второй на первую:\n",
            " [[-2 11]\n",
            " [ 5 10]]\n"
          ]
        }
      ]
    },
    {
      "cell_type": "markdown",
      "metadata": {
        "id": "ldVKterzKkOx"
      },
      "source": [
        "Или с помощью функций:"
      ]
    },
    {
      "cell_type": "code",
      "metadata": {
        "colab": {
          "base_uri": "https://localhost:8080/"
        },
        "id": "yxTzAs2RH5BJ",
        "outputId": "d48ff5b3-c8f9-4be6-f0f1-c20f42a058e0"
      },
      "source": [
        "np.multiply(m1, m2)"
      ],
      "execution_count": null,
      "outputs": [
        {
          "output_type": "execute_result",
          "data": {
            "text/plain": [
              "array([[-6,  4],\n",
              "       [ 4,  6]])"
            ]
          },
          "metadata": {},
          "execution_count": 25
        }
      ]
    },
    {
      "cell_type": "code",
      "metadata": {
        "colab": {
          "base_uri": "https://localhost:8080/"
        },
        "id": "hTIF97eRKFJq",
        "outputId": "3072dc8a-c447-4351-fb91-14c09d986f52"
      },
      "source": [
        "np.dot(m1, m2)"
      ],
      "execution_count": null,
      "outputs": [
        {
          "output_type": "execute_result",
          "data": {
            "text/plain": [
              "array([[-2,  5],\n",
              "       [11, 10]])"
            ]
          },
          "metadata": {},
          "execution_count": 26
        }
      ]
    },
    {
      "cell_type": "markdown",
      "metadata": {
        "id": "Q3linbf_XnxG"
      },
      "source": [
        "# Часть 2\n",
        "\n",
        "В этой части можно использовать numpy, pandas и matplotlib/seaborn (на выбор)"
      ]
    },
    {
      "cell_type": "code",
      "metadata": {
        "id": "3yWjCr4QXpa6"
      },
      "source": [
        "import numpy as np\n",
        "import pandas as pd\n",
        "import matplotlib.pyplot as plt\n",
        "import seaborn as sns"
      ],
      "execution_count": null,
      "outputs": []
    },
    {
      "cell_type": "markdown",
      "metadata": {
        "id": "8WuoFJcjYX0O"
      },
      "source": [
        "Дано следующее распределение `data`"
      ]
    },
    {
      "cell_type": "code",
      "metadata": {
        "colab": {
          "base_uri": "https://localhost:8080/"
        },
        "id": "e7uCRzjBYTz6",
        "outputId": "3acb2453-7868-43ed-a96e-69ae461e37c6"
      },
      "source": [
        "np.random.seed(42)\n",
        "\n",
        "# сгенерируем данные\n",
        "spread = np.random.rand(3) * 10\n",
        "center = np.ones(10) * 100\n",
        "high = np.random.rand(2) * 100 + 100\n",
        "low = np.random.rand(2) * -100\n",
        "data = np.concatenate((spread, center, high, low))\n",
        "data"
      ],
      "execution_count": null,
      "outputs": [
        {
          "output_type": "execute_result",
          "data": {
            "text/plain": [
              "array([  3.74540119,   9.50714306,   7.31993942, 100.        ,\n",
              "       100.        , 100.        , 100.        , 100.        ,\n",
              "       100.        , 100.        , 100.        , 100.        ,\n",
              "       100.        , 159.86584842, 115.60186404, -15.59945203,\n",
              "        -5.80836122])"
            ]
          },
          "metadata": {},
          "execution_count": 28
        }
      ]
    },
    {
      "cell_type": "markdown",
      "metadata": {
        "id": "Dq93OlYMYoDh"
      },
      "source": [
        "## Задача 1\n",
        "**Стоимость - 1 балл**\n",
        "\n",
        "**Задание:** Постройте boxplot для распределения `data`. Добавьте название графика. Можете использовать matplotlib или seaborn (по желанию)\n",
        "\n",
        "**Решение:**"
      ]
    },
    {
      "cell_type": "code",
      "metadata": {
        "colab": {
          "base_uri": "https://localhost:8080/",
          "height": 460
        },
        "id": "NTl_xpv9ZeRs",
        "outputId": "7cfa49df-c5b4-4ae3-d359-3b2472c7010c"
      },
      "source": [
        "sns.set_style(style='whitegrid')\n",
        "sns.despine(left=True, top=True, right=True)\n",
        "plt.figure(figsize=(10, 5))\n",
        "ax = sns.boxplot(data)\n",
        "ax.set(title='Распределение значений одномерной величины', xlabel='Value')"
      ],
      "execution_count": null,
      "outputs": [
        {
          "output_type": "stream",
          "name": "stderr",
          "text": [
            "/usr/local/lib/python3.7/dist-packages/seaborn/_decorators.py:43: FutureWarning: Pass the following variable as a keyword arg: x. From version 0.12, the only valid positional argument will be `data`, and passing other arguments without an explicit keyword will result in an error or misinterpretation.\n",
            "  FutureWarning\n"
          ]
        },
        {
          "output_type": "execute_result",
          "data": {
            "text/plain": [
              "[Text(0.5, 0, 'Value'),\n",
              " Text(0.5, 1.0, 'Распределение значений одномерной величины')]"
            ]
          },
          "metadata": {},
          "execution_count": 75
        },
        {
          "output_type": "display_data",
          "data": {
            "text/plain": [
              "<Figure size 1440x1080 with 0 Axes>"
            ]
          },
          "metadata": {}
        },
        {
          "output_type": "display_data",
          "data": {
            "image/png": "[encoded data removed]",
            "text/plain": [
              "<Figure size 720x360 with 1 Axes>"
            ]
          },
          "metadata": {}
        }
      ]
    },
    {
      "cell_type": "code",
      "metadata": {
        "id": "s6CAqYZXR3vY"
      },
      "source": [
        ""
      ],
      "execution_count": null,
      "outputs": []
    }
  ]
}